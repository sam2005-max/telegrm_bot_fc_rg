{
  "nbformat": 4,
  "nbformat_minor": 0,
  "metadata": {
    "colab": {
      "name": "Untitled4.ipynb",
      "provenance": [],
      "authorship_tag": "ABX9TyNLaE+bRtU4SYHs7yzpoeCu",
      "include_colab_link": true
    },
    "kernelspec": {
      "name": "python3",
      "display_name": "Python 3"
    },
    "language_info": {
      "name": "python"
    }
  },
  "cells": [
    {
      "cell_type": "markdown",
      "metadata": {
        "id": "view-in-github",
        "colab_type": "text"
      },
      "source": [
        "<a href=\"https://colab.research.google.com/github/sam2005-max/telegrm_bot_fc_rg/blob/main/Untitled4.ipynb\" target=\"_parent\"><img src=\"https://colab.research.google.com/assets/colab-badge.svg\" alt=\"Open In Colab\"/></a>"
      ]
    },
    {
      "cell_type": "code",
      "execution_count": null,
      "metadata": {
        "id": "6wmyd27QEvoS"
      },
      "outputs": [],
      "source": [
        "from telegram.ext import Updater, CommandHandler, MessageHandler, Filters\n",
        "import numpy as np\n",
        "import json\n",
        "import face_recognition\n",
        "admin_id = 1911018009\n",
        "token = \"5320352538:AAG8B14oSb8DeRsNkwzX-UUX1-a8cB8Lnhg\"\n",
        "\n",
        "with open('astrum.json') as json_file:\n",
        "    data = json.load(json_file)\n",
        "\n",
        "known_face_encodings = [np.asarray(i['encode']) for i in data]\n",
        "known_face_data = [f\"{i['dir']} -> {i['name']}\" for i in data]\n",
        "\n",
        "\n",
        "def start_com(update, context):\n",
        "    id = update.message.from_user.first_name\n",
        "    Id = update.message.from_user.username\n",
        "    update.message.reply_photo(\n",
        "    photo=open('image/astrum.jpg', 'rb'),\n",
        "    caption=f\"Assalomu aleykum, {id} siz @face_hack_bot botimizga start berdingiz.\\nSiz bu botga istalgan shaxsning rasmini yuborasiz mumkin\",\n",
        "    )\n",
        "    context.bot.send_message(chat_id=admin_id, text=f\"@{Id} foydalanuvchisi botga start berdi\")\n",
        "\n",
        "\n",
        "def photo_handler(update, context): # This function uploads pic from telegram and gets to our code.\n",
        "    file = update.message.photo[-1].file_id\n",
        "    obj = context.bot.get_file(file)\n",
        "    obj.download('image/photo.jpg')\n",
        "\n",
        "    uknown_img = face_recognition.load_image_file(\"image/photo.jpg\")\n",
        "    uknown_encoding = face_recognition.face_encodings(uknown_img)[0] # Here downloaded picture is encoded\n",
        "    minimum = 0.5\n",
        "    result_index = None\n",
        "    for i in range(len(known_face_encodings)):\n",
        "        face_distances = face_recognition.face_distance([known_face_encodings[i]], uknown_encoding)[0]\n",
        "        result = face_recognition.compare_faces([known_face_encodings[i]], uknown_encoding)[0]\n",
        "        print(result,face_distances)\n",
        "        if result and face_distances < minimum:\n",
        "            minimum = face_distances\n",
        "            result_index = i\n",
        "\n",
        "\n",
        "    if result_index != None:\n",
        "        student_data = f\"Astrum o'quvchisi:\\nYo'nalishi: \\t{data[result_index]['dir']}\\nIsm-Familiyasi:   {data[result_index]['name']}\".expandtabs(11)\n",
        "    else:\n",
        "        student_data = \"Topilmadi\"\n",
        "    update.message.reply_text(text=student_data)\n",
        "\n",
        "\n",
        "def main():\n",
        "    updater = Updater(token=token)\n",
        "    dispatcher = updater.dispatcher\n",
        "    dispatcher.add_handler(CommandHandler('start', start_com))\n",
        "    dispatcher.add_handler(MessageHandler(Filters.photo, photo_handler ))\n",
        "    updater.start_polling()\n",
        "    updater.idle()\n",
        "\n",
        "main()\n"
      ]
    }
  ]
}